{
 "cells": [
  {
   "cell_type": "code",
   "execution_count": 1,
   "metadata": {},
   "outputs": [
    {
     "name": "stdout",
     "output_type": "stream",
     "text": [
      "1.23.1\n",
      "No module named 'seaborn._core'\n"
     ]
    },
    {
     "data": {
      "text/plain": [
       "<Figure size 72x72 with 0 Axes>"
      ]
     },
     "metadata": {},
     "output_type": "display_data"
    }
   ],
   "source": [
    "DRAFT = True\n",
    "import itertools\n",
    "import logging\n",
    "import warnings\n",
    "import numpy as np\n",
    "print(np.version.version)\n",
    "warnings.simplefilter(action='ignore', category=FutureWarning)\n",
    "warnings.filterwarnings(\"ignore\", \"plotnine\\..*\")\n",
    "\n",
    "import cmdstanpy as csp\n",
    "csp.utils.get_logger().setLevel(logging.ERROR)\n",
    "\n",
    "\n",
    "import statistics as stat\n",
    "import pandas as pd\n",
    "import plotnine as pn\n",
    "import patchworklib as pw"
   ]
  },
  {
   "cell_type": "code",
   "execution_count": 2,
   "metadata": {},
   "outputs": [],
   "source": [
    "f = open('binomial-rng.stan', 'w')\n",
    "f.write(\"\"\"\n",
    "\n",
    "data {\n",
    "    int<lower=0> N;\n",
    "    real<lower=0, upper=1> theta;\n",
    "}\n",
    "generated quantities{\n",
    "    int<lower=0, upper=N> y = binomial_rng(N, theta);\n",
    "}\n",
    "\n",
    "\"\"\")\n",
    "f.close()"
   ]
  },
  {
   "cell_type": "code",
   "execution_count": 5,
   "metadata": {},
   "outputs": [
    {
     "name": "stderr",
     "output_type": "stream",
     "text": [
      "12:45:12 - cmdstanpy - ERROR - Chain [1] error: terminated by signal 3221225657 \n"
     ]
    },
    {
     "name": "stdout",
     "output_type": "stream",
     "text": [
      "Chain [1] \n"
     ]
    },
    {
     "ename": "RuntimeError",
     "evalue": "Error during sampling:\n\nCommand and output files:\nRunSet: chains=1, chain_ids=[1], num_processes=1\n cmd (chain 1):\n\t['C:\\\\Users\\\\manny\\\\Documents\\\\Research\\\\Flatiron\\\\PPL-practice\\\\Stan\\\\binomial-rng.exe', 'id=1', 'random', 'seed=123', 'data', 'file=C:\\\\Users\\\\manny\\\\AppData\\\\Local\\\\Temp\\\\tmpc5xbustq\\\\hkrzyc7q.json', 'output', 'file=C:\\\\Users\\\\manny\\\\AppData\\\\Local\\\\Temp\\\\tmpc5xbustq\\\\binomial-rng62poy055\\\\binomial-rng-20230605124511.csv', 'method=sample', 'num_samples=10', 'num_warmup=0', 'algorithm=hmc', 'adapt', 'engaged=1']\n retcodes=[3221225785]\n per-chain output files (showing chain 1 only):\n csv_file:\n\tC:\\Users\\manny\\AppData\\Local\\Temp\\tmpc5xbustq\\binomial-rng62poy055\\binomial-rng-20230605124511.csv\n console_msgs (if any):\n\tC:\\Users\\manny\\AppData\\Local\\Temp\\tmpc5xbustq\\binomial-rng62poy055\\binomial-rng-20230605124511_0-stdout.txt\nConsider re-running with show_console=True if the above output is unclear!",
     "output_type": "error",
     "traceback": [
      "\u001b[1;31m---------------------------------------------------------------------------\u001b[0m",
      "\u001b[1;31mRuntimeError\u001b[0m                              Traceback (most recent call last)",
      "\u001b[1;32m<ipython-input-5-be5b251ba500>\u001b[0m in \u001b[0;36m<module>\u001b[1;34m\u001b[0m\n\u001b[0;32m      3\u001b[0m \u001b[0mdata\u001b[0m \u001b[1;33m=\u001b[0m \u001b[1;33m{\u001b[0m\u001b[1;34m'N'\u001b[0m\u001b[1;33m:\u001b[0m \u001b[0mN\u001b[0m\u001b[1;33m,\u001b[0m \u001b[1;34m'theta'\u001b[0m\u001b[1;33m:\u001b[0m \u001b[0mtheta\u001b[0m\u001b[1;33m}\u001b[0m\u001b[1;33m\u001b[0m\u001b[1;33m\u001b[0m\u001b[0m\n\u001b[0;32m      4\u001b[0m \u001b[0mmodel\u001b[0m \u001b[1;33m=\u001b[0m \u001b[0mcsp\u001b[0m\u001b[1;33m.\u001b[0m\u001b[0mCmdStanModel\u001b[0m\u001b[1;33m(\u001b[0m\u001b[0mstan_file\u001b[0m \u001b[1;33m=\u001b[0m \u001b[1;34m'binomial-rng.stan'\u001b[0m\u001b[1;33m)\u001b[0m\u001b[1;33m\u001b[0m\u001b[1;33m\u001b[0m\u001b[0m\n\u001b[1;32m----> 5\u001b[1;33m sample = model.sample(data = data, seed = 123, chains = 1, \n\u001b[0m\u001b[0;32m      6\u001b[0m                       \u001b[0miter_sampling\u001b[0m \u001b[1;33m=\u001b[0m \u001b[1;36m10\u001b[0m\u001b[1;33m,\u001b[0m \u001b[0miter_warmup\u001b[0m \u001b[1;33m=\u001b[0m \u001b[1;36m0\u001b[0m\u001b[1;33m,\u001b[0m\u001b[1;33m\u001b[0m\u001b[1;33m\u001b[0m\u001b[0m\n\u001b[0;32m      7\u001b[0m                      show_progress = True, show_console = True)\n",
      "\u001b[1;32m~\\anaconda3\\lib\\site-packages\\cmdstanpy\\model.py\u001b[0m in \u001b[0;36msample\u001b[1;34m(self, data, chains, parallel_chains, threads_per_chain, seed, chain_ids, inits, iter_warmup, iter_sampling, save_warmup, thin, max_treedepth, metric, step_size, adapt_engaged, adapt_delta, adapt_init_phase, adapt_metric_window, adapt_step_size, fixed_param, output_dir, sig_figs, save_latent_dynamics, save_profile, show_progress, show_console, refresh, time_fmt, timeout, force_one_process_per_chain)\u001b[0m\n\u001b[0;32m   1199\u001b[0m                     \u001b[1;33m+\u001b[0m \u001b[1;34m' output is unclear!'\u001b[0m\u001b[1;33m\u001b[0m\u001b[1;33m\u001b[0m\u001b[0m\n\u001b[0;32m   1200\u001b[0m                 )\n\u001b[1;32m-> 1201\u001b[1;33m                 \u001b[1;32mraise\u001b[0m \u001b[0mRuntimeError\u001b[0m\u001b[1;33m(\u001b[0m\u001b[0mmsg\u001b[0m\u001b[1;33m)\u001b[0m\u001b[1;33m\u001b[0m\u001b[1;33m\u001b[0m\u001b[0m\n\u001b[0m\u001b[0;32m   1202\u001b[0m             \u001b[1;32mif\u001b[0m \u001b[0merrors\u001b[0m\u001b[1;33m:\u001b[0m\u001b[1;33m\u001b[0m\u001b[1;33m\u001b[0m\u001b[0m\n\u001b[0;32m   1203\u001b[0m                 msg = (\n",
      "\u001b[1;31mRuntimeError\u001b[0m: Error during sampling:\n\nCommand and output files:\nRunSet: chains=1, chain_ids=[1], num_processes=1\n cmd (chain 1):\n\t['C:\\\\Users\\\\manny\\\\Documents\\\\Research\\\\Flatiron\\\\PPL-practice\\\\Stan\\\\binomial-rng.exe', 'id=1', 'random', 'seed=123', 'data', 'file=C:\\\\Users\\\\manny\\\\AppData\\\\Local\\\\Temp\\\\tmpc5xbustq\\\\hkrzyc7q.json', 'output', 'file=C:\\\\Users\\\\manny\\\\AppData\\\\Local\\\\Temp\\\\tmpc5xbustq\\\\binomial-rng62poy055\\\\binomial-rng-20230605124511.csv', 'method=sample', 'num_samples=10', 'num_warmup=0', 'algorithm=hmc', 'adapt', 'engaged=1']\n retcodes=[3221225785]\n per-chain output files (showing chain 1 only):\n csv_file:\n\tC:\\Users\\manny\\AppData\\Local\\Temp\\tmpc5xbustq\\binomial-rng62poy055\\binomial-rng-20230605124511.csv\n console_msgs (if any):\n\tC:\\Users\\manny\\AppData\\Local\\Temp\\tmpc5xbustq\\binomial-rng62poy055\\binomial-rng-20230605124511_0-stdout.txt\nConsider re-running with show_console=True if the above output is unclear!"
     ]
    }
   ],
   "source": [
    "N = 100\n",
    "theta = 0.3\n",
    "data = {'N': N, 'theta': theta}\n",
    "model = csp.CmdStanModel(stan_file = 'binomial-rng.stan')\n",
    "sample = model.sample(data = data, seed = 123, chains = 1, \n",
    "                      iter_sampling = 10, iter_warmup = 0,\n",
    "                     show_progress = True, show_console = True)"
   ]
  },
  {
   "cell_type": "code",
   "execution_count": 7,
   "metadata": {},
   "outputs": [
    {
     "name": "stdout",
     "output_type": "stream",
     "text": [
      "Installing CmdStan version: 2.32.2\n",
      "Install directory: C:\\Users\\manny\\.cmdstan\n",
      "Downloading CmdStan version 2.32.2\n",
      "Download successful, file: C:\\Users\\manny\\AppData\\Local\\Temp\\tmpqpbclddh\n",
      "Extracting distribution\n",
      "Unpacked download as cmdstan-2.32.2\n",
      "Building version cmdstan-2.32.2, may take several minutes, depending on your system.\n",
      "Test model compilation\n",
      "Installed cmdstan-2.32.2\n"
     ]
    },
    {
     "data": {
      "text/plain": [
       "True"
      ]
     },
     "execution_count": 7,
     "metadata": {},
     "output_type": "execute_result"
    }
   ],
   "source": [
    "import cmdstanpy; cmdstanpy.install_cmdstan(compiler=True)"
   ]
  },
  {
   "cell_type": "code",
   "execution_count": null,
   "metadata": {},
   "outputs": [],
   "source": []
  }
 ],
 "metadata": {
  "kernelspec": {
   "display_name": "Python 3",
   "language": "python",
   "name": "python3"
  },
  "language_info": {
   "codemirror_mode": {
    "name": "ipython",
    "version": 3
   },
   "file_extension": ".py",
   "mimetype": "text/x-python",
   "name": "python",
   "nbconvert_exporter": "python",
   "pygments_lexer": "ipython3",
   "version": "3.8.3"
  }
 },
 "nbformat": 4,
 "nbformat_minor": 4
}
