{
 "cells": [
  {
   "cell_type": "code",
   "execution_count": 33,
   "metadata": {},
   "outputs": [
    {
     "name": "stdout",
     "output_type": "stream",
     "text": [
      "1.23.1\n"
     ]
    }
   ],
   "source": [
    "# Importing necessary dependencies\n",
    "DRAFT = True\n",
    "import itertools\n",
    "import logging\n",
    "import warnings\n",
    "import numpy as np\n",
    "print(np.version.version)\n",
    "warnings.simplefilter(action='ignore', category=FutureWarning)\n",
    "warnings.filterwarnings(\"ignore\", \"plotnine\\..*\")\n",
    "\n",
    "import cmdstanpy as csp\n",
    "csp.utils.get_logger().setLevel(logging.ERROR)\n",
    "\n",
    "\n",
    "import statistics as stat\n",
    "import pandas as pd\n",
    "import plotnine as pn\n",
    "import patchworklib as pw\n",
    "\n",
    "def mydraw(x):\n",
    "    \"\"\"draw plot in the quarto doc\"\"\"\n",
    "    x.draw()"
   ]
  },
  {
   "cell_type": "code",
   "execution_count": 20,
   "metadata": {},
   "outputs": [],
   "source": [
    "f = open('binomial-rng.stan', 'w')\n",
    "f.write(\"\"\"\n",
    "\n",
    "data {\n",
    "    int<lower=0> N;\n",
    "    real<lower=0, upper=1> theta;\n",
    "}\n",
    "generated quantities{\n",
    "    int<lower=0, upper=N> y = binomial_rng(N, theta);\n",
    "}\n",
    "\n",
    "\"\"\")\n",
    "f.close()"
   ]
  },
  {
   "cell_type": "code",
   "execution_count": 21,
   "metadata": {},
   "outputs": [
    {
     "name": "stdout",
     "output_type": "stream",
     "text": [
      "Chain [1] method = sample (Default)\n",
      "Chain [1] sample\n",
      "Chain [1] num_samples = 10\n",
      "Chain [1] num_warmup = 0\n",
      "Chain [1] save_warmup = 0 (Default)\n",
      "Chain [1] thin = 1 (Default)\n",
      "Chain [1] adapt\n",
      "Chain [1] engaged = 1 (Default)\n",
      "Chain [1] gamma = 0.050000000000000003 (Default)\n",
      "Chain [1] delta = 0.80000000000000004 (Default)\n",
      "Chain [1] kappa = 0.75 (Default)\n",
      "Chain [1] t0 = 10 (Default)\n",
      "Chain [1] init_buffer = 75 (Default)\n",
      "Chain [1] term_buffer = 50 (Default)\n",
      "Chain [1] window = 25 (Default)\n",
      "Chain [1] algorithm = hmc (Default)\n",
      "Chain [1] hmc\n",
      "Chain [1] engine = nuts (Default)\n",
      "Chain [1] nuts\n",
      "Chain [1] max_depth = 10 (Default)\n",
      "Chain [1] metric = diag_e (Default)\n",
      "Chain [1] metric_file =  (Default)\n",
      "Chain [1] stepsize = 1 (Default)\n",
      "Chain [1] stepsize_jitter = 0 (Default)\n",
      "Chain [1] num_chains = 1 (Default)\n",
      "Chain [1] id = 1 (Default)\n",
      "Chain [1] data\n",
      "Chain [1] file = C:\\Users\\manny\\AppData\\Local\\Temp\\tmp2um06olm\\zwo8qigx.json\n",
      "Chain [1] init = 2 (Default)\n",
      "Chain [1] random\n",
      "Chain [1] seed = 123\n",
      "Chain [1] output\n",
      "Chain [1] file = C:\\Users\\manny\\AppData\\Local\\Temp\\tmp2um06olm\\binomial-rng8awjbh3m\\binomial-rng-20230606135552.csv\n",
      "Chain [1] diagnostic_file =  (Default)\n",
      "Chain [1] refresh = 100 (Default)\n",
      "Chain [1] sig_figs = -1 (Default)\n",
      "Chain [1] profile_file = profile.csv (Default)\n",
      "Chain [1] num_threads = 1 (Default)\n",
      "Chain [1] \n",
      "Chain [1] Model contains no parameters, running fixed_param sampler, no updates to Markov chain\n",
      "Chain [1] Iteration: 1 / 10 [ 10%]  (Sampling)\n",
      "Chain [1] Iteration: 10 / 10 [100%]  (Sampling)\n",
      "Chain [1] \n",
      "Chain [1] Elapsed Time: 0 seconds (Warm-up)\n",
      "Chain [1] 0 seconds (Sampling)\n",
      "Chain [1] 0 seconds (Total)\n",
      "Chain [1] \n",
      "Chain [1] \n",
      "Chain [1] \n",
      "Chain [1] \n",
      "Chain [1] \n"
     ]
    }
   ],
   "source": [
    "# Drawing 10 samples from the first model\n",
    "N = 100\n",
    "theta = 0.3\n",
    "data = {'N': N, 'theta': theta}\n",
    "model = csp.CmdStanModel(stan_file = 'binomial-rng.stan')\n",
    "sample = model.sample(data = data, seed = 123, chains = 1, \n",
    "                      iter_sampling = 10, iter_warmup = 0, \n",
    "                      show_progress = True, show_console = True)"
   ]
  },
  {
   "cell_type": "code",
   "execution_count": 24,
   "metadata": {},
   "outputs": [
    {
     "name": "stdout",
     "output_type": "stream",
     "text": [
      "N =  100 ; theta =  0.3 ; y(0:10) =  33 36 30 28 37 26 25 19 29 33\n"
     ]
    }
   ],
   "source": [
    "# Number of clinical trial successes with 10 samples consisting of 100 patients and a 30% probability of success\n",
    "y = sample.stan_variable('y')\n",
    "print(\"N = \", N, \"; theta = \", theta, \"; y(0:10) = \", *y.astype(int))"
   ]
  },
  {
   "cell_type": "code",
   "execution_count": 25,
   "metadata": {},
   "outputs": [
    {
     "name": "stdout",
     "output_type": "stream",
     "text": [
      "N = 10\n",
      "  y:  4 4 3 4 3 3 3 5 2 4\n",
      "  est. theta:  0.4 0.4 0.3 0.4 0.3 0.3 0.3 0.5 0.2 0.4\n",
      "N = 100\n",
      "  y:  33 36 30 28 37 26 25 19 29 33\n",
      "  est. theta:  0.33 0.36 0.3 0.28 0.37 0.26 0.25 0.19 0.29 0.33\n",
      "N = 1000\n",
      "  y:  322 324 306 333 311 318 294 323 282 311\n",
      "  est. theta:  0.322 0.324 0.306 0.333 0.311 0.318 0.294 0.323 0.282 0.311\n",
      "N = 10000\n",
      "  y:  3049 3052 3012 3025 3042 3087 3051 2922 2943 3025\n",
      "  est. theta:  0.3049 0.3052 0.3012 0.3025 0.3042 0.3087 0.3051 0.2922 0.2943 0.3025\n"
     ]
    }
   ],
   "source": [
    "# Running a looped version of the above scenario\n",
    "for N in [10, 100, 1_000, 10_000]:\n",
    "    data = {'N': N, 'theta': theta}\n",
    "    sample = model.sample(data = data, seed = 123, chains = 1,\n",
    "                          iter_sampling = 10, iter_warmup = 0,\n",
    "                          show_progress = False,\n",
    "              show_console = False)\n",
    "    y = sample.stan_variable('y')\n",
    "    print(\"N =\", N)\n",
    "    print(\"  y: \", *y.astype(int))\n",
    "    print(\"  est. theta: \", *(y / N))"
   ]
  },
  {
   "cell_type": "code",
   "execution_count": 34,
   "metadata": {},
   "outputs": [],
   "source": [
    "np.random.seed(123)\n",
    "ts = []\n",
    "ps = []\n",
    "theta = 0.3\n",
    "M = 100 if DRAFT else 100000\n",
    "for N in [10, 100, 1000]:\n",
    "    data = {'N': N, 'theta': theta}\n",
    "    sample = model.sample(data = data, seed = 123, chains = 1, iter_sampling = M, iter_warmup = 0, \n",
    "                          show_progress = False, show_console = False)\n",
    "    y = sample.stan_variable('y')\n",
    "    theta_hat = y/N\n",
    "    ps.extend(theta_hat)\n",
    "    ts.extend(itertools.repeat(N, M))\n",
    "xlabel = 'estimated Pr[success]'\n",
    "df = pd.DataFrame({xlabel: ps, 'trials': ts})\n",
    "mydraw(pn.ggplot(df, pn.aes(x = xlabel))\n",
    "       + pn.geom_histogram(binwidth = 0.01)\n",
    "       + pn.facet_grid('. ~ trials')\n",
    "       + pn.scales.scale_x_continuous(limits = [0,1], breaks = [0, 1/4, 1/2, 3/4, 1],\n",
    "                                     labels = [\"0\", \"1/4\", \"1/2\", \"3/4\", \"1\"], expand = [0, 0])\n",
    "       + pn.scales.scale_y_continuous(expand = [0, 0, 0.05, 0])\n",
    "       + pn.theme(aspect_ratio = 1, panel_spacing = 0.15,\n",
    "                 strip_text = pn.element_text(size = 6),\n",
    "                 strip_background = pn.element_rect(height = 0.08,\n",
    "                                                   fill = \"lightgray\")))"
   ]
  },
  {
   "cell_type": "code",
   "execution_count": 1,
   "metadata": {},
   "outputs": [
    {
     "name": "stdout",
     "output_type": "stream",
     "text": [
      "C:\\Users\\manny\\anaconda3\\envs\\stan\\Library\\bin\\cmdstan\n"
     ]
    }
   ],
   "source": [
    "from cmdstanpy import cmdstan_path\n",
    "print(cmdstan_path())"
   ]
  },
  {
   "cell_type": "code",
   "execution_count": 6,
   "metadata": {},
   "outputs": [
    {
     "data": {
      "text/plain": [
       "'1.1.0'"
      ]
     },
     "execution_count": 6,
     "metadata": {},
     "output_type": "execute_result"
    }
   ],
   "source": [
    "import cmdstanpy\n",
    "cmdstanpy.__version__"
   ]
  },
  {
   "cell_type": "code",
   "execution_count": 13,
   "metadata": {},
   "outputs": [
    {
     "data": {
      "text/plain": [
       "'C:\\\\Users\\\\manny\\\\.cmdstan\\\\cmdstan-2.32.2'"
      ]
     },
     "execution_count": 13,
     "metadata": {},
     "output_type": "execute_result"
    }
   ],
   "source": [
    "from cmdstanpy import cmdstan_path, set_cmdstan_path\n",
    "cmdstan_path()"
   ]
  },
  {
   "cell_type": "code",
   "execution_count": 11,
   "metadata": {},
   "outputs": [
    {
     "ename": "ModuleNotFoundError",
     "evalue": "No module named 'tbb'",
     "output_type": "error",
     "traceback": [
      "\u001b[1;31m---------------------------------------------------------------------------\u001b[0m",
      "\u001b[1;31mModuleNotFoundError\u001b[0m                       Traceback (most recent call last)",
      "\u001b[1;32m<ipython-input-11-08978b8c9ffd>\u001b[0m in \u001b[0;36m<module>\u001b[1;34m\u001b[0m\n\u001b[1;32m----> 1\u001b[1;33m \u001b[1;32mimport\u001b[0m \u001b[0mtbb\u001b[0m\u001b[1;33m\u001b[0m\u001b[1;33m\u001b[0m\u001b[0m\n\u001b[0m\u001b[0;32m      2\u001b[0m \u001b[0mtbb\u001b[0m\u001b[1;33m.\u001b[0m\u001b[0m__version__\u001b[0m\u001b[1;33m\u001b[0m\u001b[1;33m\u001b[0m\u001b[0m\n",
      "\u001b[1;31mModuleNotFoundError\u001b[0m: No module named 'tbb'"
     ]
    }
   ],
   "source": [
    "import tbb\n",
    "tbb.__version__"
   ]
  },
  {
   "cell_type": "code",
   "execution_count": 17,
   "metadata": {},
   "outputs": [
    {
     "name": "stdout",
     "output_type": "stream",
     "text": [
      "Installing CmdStan version: 2.32.2\n",
      "Install directory: C:\\Users\\manny\\.cmdstan\n",
      "Downloading CmdStan version 2.32.2\n",
      "Download successful, file: C:\\Users\\manny\\AppData\\Local\\Temp\\tmpq4_owhe_\n",
      "Extracting distribution\n",
      "Unpacked download as cmdstan-2.32.2\n",
      "Building version cmdstan-2.32.2, may take several minutes, depending on your system.\n",
      "Overwrite requested, remove existing build of version cmdstan-2.32.2\n",
      "Rebuilding version cmdstan-2.32.2\n",
      "Test model compilation\n",
      "Installed cmdstan-2.32.2\n"
     ]
    },
    {
     "ename": "ValueError",
     "evalue": "CmdStan installataion missing binaries in C:\\Users\\manny\\.cmdstan/bin. Re-install cmdstan by running command \"install_cmdstan --overwrite\", or Python code \"import cmdstanpy; cmdstanpy.install_cmdstan(overwrite=True)\"",
     "output_type": "error",
     "traceback": [
      "\u001b[1;31m---------------------------------------------------------------------------\u001b[0m",
      "\u001b[1;31mValueError\u001b[0m                                Traceback (most recent call last)",
      "\u001b[1;32m<ipython-input-17-719949810198>\u001b[0m in \u001b[0;36m<module>\u001b[1;34m\u001b[0m\n\u001b[0;32m      1\u001b[0m \u001b[1;32mimport\u001b[0m \u001b[0mcmdstanpy\u001b[0m\u001b[1;33m\u001b[0m\u001b[1;33m\u001b[0m\u001b[0m\n\u001b[0;32m      2\u001b[0m \u001b[0mcmdstanpy\u001b[0m\u001b[1;33m.\u001b[0m\u001b[0minstall_cmdstan\u001b[0m\u001b[1;33m(\u001b[0m\u001b[0mcompiler\u001b[0m\u001b[1;33m=\u001b[0m\u001b[1;32mTrue\u001b[0m\u001b[1;33m,\u001b[0m \u001b[0moverwrite\u001b[0m \u001b[1;33m=\u001b[0m \u001b[1;32mTrue\u001b[0m\u001b[1;33m)\u001b[0m\u001b[1;33m\u001b[0m\u001b[1;33m\u001b[0m\u001b[0m\n\u001b[1;32m----> 3\u001b[1;33m \u001b[0mset_cmdstan_path\u001b[0m\u001b[1;33m(\u001b[0m\u001b[1;34mr\"C:\\Users\\manny\\.cmdstan\"\u001b[0m\u001b[1;33m)\u001b[0m\u001b[1;33m\u001b[0m\u001b[1;33m\u001b[0m\u001b[0m\n\u001b[0m\u001b[0;32m      4\u001b[0m \u001b[0mcmdstan_path\u001b[0m\u001b[1;33m(\u001b[0m\u001b[1;33m)\u001b[0m\u001b[1;33m\u001b[0m\u001b[1;33m\u001b[0m\u001b[0m\n",
      "\u001b[1;32m~\\anaconda3\\lib\\site-packages\\cmdstanpy\\utils\\cmdstan.py\u001b[0m in \u001b[0;36mset_cmdstan_path\u001b[1;34m(path)\u001b[0m\n\u001b[0;32m    145\u001b[0m     \u001b[0mValidate\u001b[0m\u001b[1;33m,\u001b[0m \u001b[0mthen\u001b[0m \u001b[0mset\u001b[0m \u001b[0mCmdStan\u001b[0m \u001b[0mdirectory\u001b[0m \u001b[0mpath\u001b[0m\u001b[1;33m.\u001b[0m\u001b[1;33m\u001b[0m\u001b[1;33m\u001b[0m\u001b[0m\n\u001b[0;32m    146\u001b[0m     \"\"\"\n\u001b[1;32m--> 147\u001b[1;33m     \u001b[0mvalidate_cmdstan_path\u001b[0m\u001b[1;33m(\u001b[0m\u001b[0mpath\u001b[0m\u001b[1;33m)\u001b[0m\u001b[1;33m\u001b[0m\u001b[1;33m\u001b[0m\u001b[0m\n\u001b[0m\u001b[0;32m    148\u001b[0m     \u001b[0mos\u001b[0m\u001b[1;33m.\u001b[0m\u001b[0menviron\u001b[0m\u001b[1;33m[\u001b[0m\u001b[1;34m'CMDSTAN'\u001b[0m\u001b[1;33m]\u001b[0m \u001b[1;33m=\u001b[0m \u001b[0mpath\u001b[0m\u001b[1;33m\u001b[0m\u001b[1;33m\u001b[0m\u001b[0m\n\u001b[0;32m    149\u001b[0m \u001b[1;33m\u001b[0m\u001b[0m\n",
      "\u001b[1;32m~\\anaconda3\\lib\\site-packages\\cmdstanpy\\utils\\cmdstan.py\u001b[0m in \u001b[0;36mvalidate_cmdstan_path\u001b[1;34m(path)\u001b[0m\n\u001b[0;32m    133\u001b[0m         \u001b[1;32mraise\u001b[0m \u001b[0mValueError\u001b[0m\u001b[1;33m(\u001b[0m\u001b[1;34mf'No CmdStan directory, path {path} does not exist.'\u001b[0m\u001b[1;33m)\u001b[0m\u001b[1;33m\u001b[0m\u001b[1;33m\u001b[0m\u001b[0m\n\u001b[0;32m    134\u001b[0m     \u001b[1;32mif\u001b[0m \u001b[1;32mnot\u001b[0m \u001b[0mos\u001b[0m\u001b[1;33m.\u001b[0m\u001b[0mpath\u001b[0m\u001b[1;33m.\u001b[0m\u001b[0mexists\u001b[0m\u001b[1;33m(\u001b[0m\u001b[0mos\u001b[0m\u001b[1;33m.\u001b[0m\u001b[0mpath\u001b[0m\u001b[1;33m.\u001b[0m\u001b[0mjoin\u001b[0m\u001b[1;33m(\u001b[0m\u001b[0mpath\u001b[0m\u001b[1;33m,\u001b[0m \u001b[1;34m'bin'\u001b[0m\u001b[1;33m,\u001b[0m \u001b[1;34m'stanc'\u001b[0m \u001b[1;33m+\u001b[0m \u001b[0mEXTENSION\u001b[0m\u001b[1;33m)\u001b[0m\u001b[1;33m)\u001b[0m\u001b[1;33m:\u001b[0m\u001b[1;33m\u001b[0m\u001b[1;33m\u001b[0m\u001b[0m\n\u001b[1;32m--> 135\u001b[1;33m         raise ValueError(\n\u001b[0m\u001b[0;32m    136\u001b[0m             \u001b[1;34mf'CmdStan installataion missing binaries in {path}/bin. '\u001b[0m\u001b[1;33m\u001b[0m\u001b[1;33m\u001b[0m\u001b[0m\n\u001b[0;32m    137\u001b[0m             \u001b[1;34m'Re-install cmdstan by running command \"install_cmdstan '\u001b[0m\u001b[1;33m\u001b[0m\u001b[1;33m\u001b[0m\u001b[0m\n",
      "\u001b[1;31mValueError\u001b[0m: CmdStan installataion missing binaries in C:\\Users\\manny\\.cmdstan/bin. Re-install cmdstan by running command \"install_cmdstan --overwrite\", or Python code \"import cmdstanpy; cmdstanpy.install_cmdstan(overwrite=True)\""
     ]
    }
   ],
   "source": [
    "import cmdstanpy\n",
    "cmdstanpy.install_cmdstan(compiler=True, overwrite = True)\n",
    "set_cmdstan_path(r\"C:\\Users\\manny\\.cmdstan\")\n",
    "cmdstan_path()"
   ]
  },
  {
   "cell_type": "code",
   "execution_count": 18,
   "metadata": {},
   "outputs": [
    {
     "data": {
      "text/plain": [
       "'C:\\\\Users\\\\manny\\\\.cmdstan\\\\cmdstan-2.32.2'"
      ]
     },
     "execution_count": 18,
     "metadata": {},
     "output_type": "execute_result"
    }
   ],
   "source": [
    "cmdstan_path()"
   ]
  },
  {
   "cell_type": "code",
   "execution_count": null,
   "metadata": {},
   "outputs": [],
   "source": []
  }
 ],
 "metadata": {
  "kernelspec": {
   "display_name": "Python 3",
   "language": "python",
   "name": "python3"
  },
  "language_info": {
   "codemirror_mode": {
    "name": "ipython",
    "version": 3
   },
   "file_extension": ".py",
   "mimetype": "text/x-python",
   "name": "python",
   "nbconvert_exporter": "python",
   "pygments_lexer": "ipython3",
   "version": "3.8.3"
  }
 },
 "nbformat": 4,
 "nbformat_minor": 4
}
