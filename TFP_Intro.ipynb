{
  "nbformat": 4,
  "nbformat_minor": 0,
  "metadata": {
    "colab": {
      "provenance": [],
      "authorship_tag": "ABX9TyPoPrr4sm8Q1DNZvV9YC29/",
      "include_colab_link": true
    },
    "kernelspec": {
      "name": "python3",
      "display_name": "Python 3"
    },
    "language_info": {
      "name": "python"
    }
  },
  "cells": [
    {
      "cell_type": "markdown",
      "metadata": {
        "id": "view-in-github",
        "colab_type": "text"
      },
      "source": [
        "<a href=\"https://colab.research.google.com/github/emmanuelmokel/PPL-practice/blob/main/TFP_Intro.ipynb\" target=\"_parent\"><img src=\"https://colab.research.google.com/assets/colab-badge.svg\" alt=\"Open In Colab\"/></a>"
      ]
    },
    {
      "cell_type": "code",
      "execution_count": 2,
      "metadata": {
        "colab": {
          "base_uri": "https://localhost:8080/"
        },
        "id": "HUHRAGFuQ92w",
        "outputId": "75633288-4818-4d6f-e11f-58c293809192"
      },
      "outputs": [
        {
          "output_type": "stream",
          "name": "stdout",
          "text": [
            "\u001b[33mWARNING: Ignoring invalid distribution -ensorflow (/usr/local/lib/python3.10/dist-packages)\u001b[0m\u001b[33m\n",
            "\u001b[0m\u001b[33mWARNING: Skipping tensorflow as it is not installed.\u001b[0m\u001b[33m\n",
            "\u001b[0m\u001b[33mWARNING: Ignoring invalid distribution -ensorflow (/usr/local/lib/python3.10/dist-packages)\u001b[0m\u001b[33m\n",
            "\u001b[0m\u001b[33mWARNING: Ignoring invalid distribution -ensorflow (/usr/local/lib/python3.10/dist-packages)\u001b[0m\u001b[33m\n",
            "\u001b[0m"
          ]
        }
      ],
      "source": [
        "!pip uninstall tensorflow -y -q\n",
        "!pip install -Uq tfp-nightly[jax] > /dev/null"
      ]
    },
    {
      "cell_type": "code",
      "source": [
        "# Importing basic packages\n",
        "import matplotlib.pyplot as plt\n",
        "import numpy as np\n",
        "import seaborn as sns\n",
        "from sklearn import datasets\n",
        "sns.set(style = 'white')"
      ],
      "metadata": {
        "id": "AYH-F-NqSNOV"
      },
      "execution_count": 7,
      "outputs": []
    },
    {
      "cell_type": "code",
      "source": [
        "# Importing packages for TFP and JAX\n",
        "import jax.numpy as jnp\n",
        "from jax import grad\n",
        "from jax import jit \n",
        "from jax import random\n",
        "from jax import value_and_grad\n",
        "from jax import vmap\n",
        "from tensorflow_probability.substrates import jax as tfp\n",
        "\n",
        "# Setting modules as variables?\n",
        "tfd = tfp.distributions\n",
        "tfb = tfp.bijectors\n",
        "tfpk = tfp.math.psd_kernels"
      ],
      "metadata": {
        "id": "HigHwuryTen_"
      },
      "execution_count": 8,
      "outputs": []
    },
    {
      "cell_type": "code",
      "source": [
        "iris = datasets.load_iris()\n",
        "features, labels = iris['data'], iris['target']\n",
        "\n",
        "num_features = features.shape[-1]\n",
        "num_classes = len(iris.target_names)"
      ],
      "metadata": {
        "id": "XiCGpqyTUJY3"
      },
      "execution_count": 6,
      "outputs": []
    }
  ]
}